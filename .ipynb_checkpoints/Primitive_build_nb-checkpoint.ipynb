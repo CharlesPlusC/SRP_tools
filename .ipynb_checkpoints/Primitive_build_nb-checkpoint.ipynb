{
 "cells": [
  {
   "cell_type": "code",
   "execution_count": 1,
   "id": "17dd4943",
   "metadata": {},
   "outputs": [
    {
     "name": "stdout",
     "output_type": "stream",
     "text": [
      "Enabling notebook extension jupyter-threejs/extension...\n",
      "      - Validating: \u001b[32mOK\u001b[0m\n",
      "Enabling notebook extension jupyter-js-widgets/extension...\n",
      "      - Validating: \u001b[32mOK\u001b[0m\n"
     ]
    }
   ],
   "source": [
    "!jupyter nbextension enable --py --sys-prefix pythreejs\n",
    "!jupyter nbextension enable --py --sys-prefix widgetsnbextension"
   ]
  },
  {
   "cell_type": "code",
   "execution_count": 2,
   "id": "8895902f",
   "metadata": {},
   "outputs": [],
   "source": [
    "import numpy as np\n",
    "from pythreejs import (Renderer, Scene, PerspectiveCamera, Mesh, BoxGeometry, SphereGeometry, CylinderGeometry, ConeGeometry, PlaneGeometry,\n",
    "                       MeshStandardMaterial, DirectionalLight, OrbitControls, BufferGeometry, CircleGeometry, RingGeometry, GridHelper)\n",
    "from scipy.spatial.transform import Rotation as R\n",
    "from IPython.display import display\n",
    "import pickle"
   ]
  },
  {
   "cell_type": "code",
   "execution_count": 3,
   "id": "59ee5dd5",
   "metadata": {},
   "outputs": [],
   "source": [
    "class GeometricPrimitive:\n",
    "    def __init__(self, geometry, position, rotation=None):\n",
    "        self.geometry = geometry\n",
    "        self.position = position\n",
    "        self.rotation= rotation\n",
    "        self.calculate_properties()\n",
    "\n",
    "    def calculate_properties(self):\n",
    "        if isinstance(self.geometry, BoxGeometry):\n",
    "            self.vertices = []\n",
    "            for i in range(-1, 2, 2):\n",
    "                for j in range(-1, 2, 2):\n",
    "                    for k in range(-1, 2, 2):\n",
    "                        self.vertices.append([i * self.geometry.width / 2, j * self.geometry.height / 2, k * self.geometry.depth / 2])\n",
    "        elif isinstance(self.geometry, SphereGeometry):\n",
    "            self.radius = self.geometry.radius\n",
    "        elif isinstance(self.geometry, CylinderGeometry):\n",
    "            self.radius = self.geometry.radiusBottom\n",
    "            self.base_coords = [0, -self.geometry.height / 2, 0]\n",
    "            self.top_coords = [0, self.geometry.height / 2, 0]\n",
    "        elif isinstance(self.geometry, CircleGeometry):\n",
    "            self.radius = self.geometry.radius\n",
    "        elif isinstance(self.geometry, RingGeometry):\n",
    "            self.outer_radius = self.geometry.outerRadius\n",
    "            self.inner_radius = self.geometry.innerRadius\n",
    "            self.thickness = self.outer_radius - self.inner_radius\n",
    "        elif isinstance(self.geometry, ConeGeometry):\n",
    "            self.depth = self.geometry.height\n",
    "            self.radius_bottom = self.geometry.radius\n",
    "            self.radius_top = 0 if not hasattr(self.geometry, 'radiusTop') else self.geometry.radiusTop\n",
    "            self.base_center_coords = [0, -self.geometry.height / 2, 0]\n",
    "            self.tip_coords = [0, self.geometry.height / 2, 0]\n",
    "        elif isinstance(self.geometry, PlaneGeometry):\n",
    "            self.vertices = []\n",
    "            for i in range(-1, 2, 2):\n",
    "                for j in range(-1, 2, 2):\n",
    "                    self.vertices.append([i * self.geometry.width / 2, j * self.geometry.height / 2, 0])\n",
    "\n",
    "def create_mesh(primitive, material):\n",
    "    geometry = primitive.geometry\n",
    "    mesh = Mesh(geometry=geometry, material=material)\n",
    "    mesh.position = primitive.position\n",
    "    if primitive.rotation is not None:\n",
    "        euler_rotation_with_order = tuple(primitive.rotation) + ('XYZ',)\n",
    "        r = R.from_euler('XYZ', primitive.rotation, degrees=False)\n",
    "        mesh.quaternion = tuple(r.as_quat())\n",
    "    return mesh\n",
    "\n",
    "def save_primitives(filename, primitives):\n",
    "    with open(filename, 'wb') as f:\n",
    "        pickle.dump(primitives, f)\n",
    "\n",
    "def load_primitives(filename):\n",
    "    with open(filename, 'rb') as f:\n",
    "        return pickle.load(f)\n",
    "\n",
    "def setup_scene(primitives,rotations=None):\n",
    "    camera = PerspectiveCamera(position=[3, 3, 3], aspect=1.0)\n",
    "    controls = OrbitControls(controlling=camera)\n",
    "    light = DirectionalLight(position=[10, 10, 10])\n",
    "\n",
    "    scene = Scene()\n",
    "    scene.add(camera)\n",
    "    scene.add(light)\n",
    "    \n",
    "    material = MeshStandardMaterial(color='green')\n",
    "\n",
    "    for i, primitive in enumerate(primitives):\n",
    "        mesh = create_mesh(primitive, material)\n",
    "        scene.add(mesh)\n",
    "\n",
    "    renderer = Renderer(scene, camera, [controls], width=800, height=600)\n",
    "    return renderer\n",
    "\n",
    "def orientation2euler(bond_orientation, axis=2):\n",
    "    bond_matrix = np.eye(3)\n",
    "    bond_matrix[:, axis] = bond_orientation\n",
    "    permutation = (axis + np.arange(3)) % 3\n",
    "    bond_matrix = bond_matrix[:, permutation]\n",
    "    q, r = np.linalg.qr(bond_matrix)\n",
    "    if np.sign(r[0, 0]) == -1:\n",
    "        bond_rotation_matrix = -q[:, [0, 2, 1]]\n",
    "    else:\n",
    "        bond_rotation_matrix = q\n",
    "    permutation = np.arange(3)\n",
    "    permutation[(axis + np.arange(3)) % 3] = np.arange(3)\n",
    "    bond_rotation_matrix = bond_rotation_matrix[:, permutation]\n",
    "    euler_rotation = R.from_matrix(bond_rotation_matrix).as_euler('XYZ', degrees=False)\n",
    "    return euler_rotation\n",
    "\n",
    "def plot_primitives(primitives):\n",
    "    renderer = setup_scene(primitives)\n",
    "    #add a grid in the background\n",
    "    grid = GridHelper(size=10, divisions=10)\n",
    "    renderer.scene.add(grid)\n",
    "    display(renderer)"
   ]
  },
  {
   "cell_type": "code",
   "execution_count": null,
   "id": "b01c3596",
   "metadata": {},
   "outputs": [],
   "source": [
    "#TODO: \n",
    "# function to convert from list of primitives to the UCL format (ensuring the rotations are applied correctly to the vertices as well)\n",
    "\n",
    "# first -> list of required info for each shape from the manual (including material properties-change object colour as function of this)\n",
    "# second -> convert each primitives definition to outlined requirements\n",
    "# third -> apply rotation where/if necessary\n"
   ]
  },
  {
   "cell_type": "code",
   "execution_count": 5,
   "id": "1cf07ad1",
   "metadata": {},
   "outputs": [
    {
     "data": {
      "application/vnd.jupyter.widget-view+json": {
       "model_id": "f6b4a285ecc740d7aff66b5a33c90e5e",
       "version_major": 2,
       "version_minor": 0
      },
      "text/plain": [
       "Renderer(camera=PerspectiveCamera(position=(3.0, 3.0, 3.0), projectionMatrix=(1.0, 0.0, 0.0, 0.0, 0.0, 1.0, 0.…"
      ]
     },
     "metadata": {},
     "output_type": "display_data"
    }
   ],
   "source": [
    "bus = GeometricPrimitive(BoxGeometry(width=1, height=1, depth=3), position=[0, 0, 0])\n",
    "array1 = GeometricPrimitive(BoxGeometry(width=5, height=0.05, depth=1), position=[0, 0, 0])\n",
    "antenna1 = GeometricPrimitive(CylinderGeometry(radiusTop=0.02, radiusBottom=0.05, height=0.4), position=[-0.3, 0.5, 1])\n",
    "antenna2 = GeometricPrimitive(CylinderGeometry(radiusTop=0.02, radiusBottom=0.05, height=0.4), position=[0.3, 0.5, 1])\n",
    "antenna3 = GeometricPrimitive(CylinderGeometry(radiusTop=0.02, radiusBottom=0.05, height=0.4), position=[0.0, 0.5, 1])\n",
    "truncated_paraboloid = GeometricPrimitive(CylinderGeometry(radiusTop=0.4, radiusBottom=0.2, height=0.2), position=[0, 0.5, -1])\n",
    "rotated_cylinder = GeometricPrimitive(CylinderGeometry(radiusTop=0.05, radiusBottom=0.05, height=1.5), position=[0, 0.5, 1.4], rotation=orientation2euler(np.array([280, 10, 30])))\n",
    "\n",
    "sc_primitives = [bus, array1, antenna1, antenna2, antenna3, truncated_paraboloid, rotated_cylinder]\n",
    "\n",
    "plot_primitives(sc_primitives)\n"
   ]
  },
  {
   "cell_type": "code",
   "execution_count": null,
   "id": "0045bd05",
   "metadata": {},
   "outputs": [],
   "source": [
    "\n",
    "    # TODO: make a function that takes in a list of primitives and returns a list of coords/info\n",
    "    # for primitive in primitives:\n",
    "    #     # ...\n",
    "    #     if isinstance(primitive.geometry, BoxGeometry):\n",
    "    #         print(\"Box vertices:\")\n",
    "    #         for vertex in primitive.vertices:\n",
    "    #             print(vertex)\n",
    "    #     elif isinstance(primitive.geometry, SphereGeometry):\n",
    "    #         print(f\"Sphere radius: {primitive.radius}, center: {primitive.position}\")\n",
    "    #     elif isinstance(primitive.geometry, CylinderGeometry):\n",
    "    #         print(f\"Cylinder radius: {primitive.radius}, base coordinates: {primitive.base_coords}, top coordinates: {primitive.top_coords}\")\n",
    "    #     elif isinstance(primitive.geometry, CircleGeometry):\n",
    "    #         print(f\"Circle radius: {primitive.radius}, center: {primitive.position}\")\n",
    "    #     elif isinstance(primitive.geometry, RingGeometry):\n",
    "    #         print(f\"Ring outer radius: {primitive.outer_radius}, inner radius: {primitive.inner_radius}, thickness: {primitive.thickness}, center: {primitive.position}\")\n",
    "    #     elif isinstance(primitive.geometry, ConeGeometry):\n",
    "    #         if primitive.radius_top == 0:\n",
    "    #             print(f\"Paraboloid depth: {primitive.depth}, radius: {primitive.radius_bottom}, apex coordinates: {primitive.tip_coords}, base center coordinates: {primitive.base_center_coords}\")\n",
    "    #         else:\n",
    "    #             print(f\"Truncated Cone depth: {primitive.depth}, radius at the base: {primitive.radius_bottom}, tip radius: {primitive.radius_top}, base center coordinates: {primitive.base_center_coords}, tip coordinates: {primitive.tip_coords}\")\n"
   ]
  },
  {
   "cell_type": "code",
   "execution_count": null,
   "id": "aa3b0bdb",
   "metadata": {},
   "outputs": [],
   "source": [
    "# create primitives, position them, apply rotation to mesh, apply rotation to vertices determining shape"
   ]
  }
 ],
 "metadata": {
  "kernelspec": {
   "display_name": "Python 3 (ipykernel)",
   "language": "python",
   "name": "python3"
  },
  "language_info": {
   "codemirror_mode": {
    "name": "ipython",
    "version": 3
   },
   "file_extension": ".py",
   "mimetype": "text/x-python",
   "name": "python",
   "nbconvert_exporter": "python",
   "pygments_lexer": "ipython3",
   "version": "3.9.16"
  }
 },
 "nbformat": 4,
 "nbformat_minor": 5
}
