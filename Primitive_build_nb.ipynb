{
 "cells": [
  {
   "cell_type": "code",
   "execution_count": 387,
   "id": "17dd4943",
   "metadata": {},
   "outputs": [
    {
     "name": "stdout",
     "output_type": "stream",
     "text": [
      "Enabling notebook extension jupyter-threejs/extension...\n",
      "      - Validating: \u001b[32mOK\u001b[0m\n",
      "Enabling notebook extension jupyter-js-widgets/extension...\n",
      "      - Validating: \u001b[32mOK\u001b[0m\n"
     ]
    }
   ],
   "source": [
    "!jupyter nbextension enable --py --sys-prefix pythreejs\n",
    "!jupyter nbextension enable --py --sys-prefix widgetsnbextension"
   ]
  },
  {
   "cell_type": "code",
   "execution_count": 414,
   "id": "59ee5dd5",
   "metadata": {},
   "outputs": [],
   "source": [
    "import numpy as np\n",
    "from pythreejs import (Renderer, Scene, PerspectiveCamera, Mesh, BoxGeometry, SphereGeometry, CylinderGeometry, ConeGeometry, PlaneGeometry,\n",
    "                       MeshStandardMaterial, DirectionalLight, OrbitControls, Euler, BufferGeometry, CircleGeometry, RingGeometry, GridHelper)\n",
    "from IPython.display import display\n",
    "class GeometricPrimitive:\n",
    "    def __init__(self, geometry, position):\n",
    "        self.geometry = geometry\n",
    "        self.position = position\n",
    "        self.calculate_properties()\n",
    "\n",
    "    def calculate_properties(self):\n",
    "        if isinstance(self.geometry, BoxGeometry):\n",
    "            self.vertices = []\n",
    "            for i in range(-1, 2, 2):\n",
    "                for j in range(-1, 2, 2):\n",
    "                    for k in range(-1, 2, 2):\n",
    "                        self.vertices.append([i * self.geometry.width / 2, j * self.geometry.height / 2, k * self.geometry.depth / 2])\n",
    "        elif isinstance(self.geometry, SphereGeometry):\n",
    "            self.radius = self.geometry.radius\n",
    "        elif isinstance(self.geometry, CylinderGeometry):\n",
    "            self.radius = self.geometry.radiusBottom\n",
    "            self.base_coords = [0, -self.geometry.height / 2, 0]\n",
    "            self.top_coords = [0, self.geometry.height / 2, 0]\n",
    "        elif isinstance(self.geometry, CircleGeometry):\n",
    "            self.radius = self.geometry.radius\n",
    "        elif isinstance(self.geometry, RingGeometry):\n",
    "            self.outer_radius = self.geometry.outerRadius\n",
    "            self.inner_radius = self.geometry.innerRadius\n",
    "            self.thickness = self.outer_radius - self.inner_radius\n",
    "        elif isinstance(self.geometry, ConeGeometry):\n",
    "            self.depth = self.geometry.height\n",
    "            self.radius_bottom = self.geometry.radius\n",
    "            self.radius_top = 0 if not hasattr(self.geometry, 'radiusTop') else self.geometry.radiusTop\n",
    "            self.base_center_coords = [0, -self.geometry.height / 2, 0]\n",
    "            self.tip_coords = [0, self.geometry.height / 2, 0]\n",
    "        elif isinstance(self.geometry, PlaneGeometry):\n",
    "            self.vertices = []\n",
    "            for i in range(-1, 2, 2):\n",
    "                for j in range(-1, 2, 2):\n",
    "                    self.vertices.append([i * self.geometry.width / 2, j * self.geometry.height / 2, 0])\n",
    "\n",
    "def create_mesh(primitive, material):\n",
    "    geometry = primitive.geometry\n",
    "    mesh = Mesh(geometry=geometry, material=material)\n",
    "    mesh.position = primitive.position\n",
    "    return mesh\n",
    "\n",
    "def visualize_primitives(primitives):\n",
    "    camera = PerspectiveCamera(position=[3, 3, 3], aspect=1.0)\n",
    "    controls = OrbitControls(controlling=camera)\n",
    "    light = DirectionalLight(position=[10, 10, 10])\n",
    "\n",
    "    scene = Scene()\n",
    "    scene.add(camera)\n",
    "    scene.add(light)\n",
    "    \n",
    "    material = MeshStandardMaterial(color='green')\n",
    "\n",
    "    for primitive in primitives:\n",
    "        mesh = create_mesh(primitive, material)\n",
    "        scene.add(mesh)\n",
    "\n",
    "    renderer = Renderer(scene, camera, [controls], width=800, height=600)\n",
    "    return renderer\n",
    "\n",
    "def sc_plot():\n",
    "    # test shapes\n",
    "    box = GeometricPrimitive(BoxGeometry(width=1, height=1, depth=3), position=[0, 0, 0])\n",
    "    array1 = GeometricPrimitive(BoxGeometry(width=5, height=0.05, depth=1), position=[0, 0, 0])\n",
    "    antenna1 = GeometricPrimitive(CylinderGeometry(radiusTop=0.02, radiusBottom=0.05, height=0.4), position=[-0.3, 0.5, 1])\n",
    "    antenna2 = GeometricPrimitive(CylinderGeometry(radiusTop=0.02, radiusBottom=0.05, height=0.4), position=[0.3, 0.5, 1])\n",
    "    antenna3 = GeometricPrimitive(CylinderGeometry(radiusTop=0.02, radiusBottom=0.05, height=0.4), position=[0.0, 0.5, 1])\n",
    "    truncated_paraboloid = GeometricPrimitive(CylinderGeometry(radiusTop=0.4, radiusBottom=0.2, height=0.2), position=[0, 0.5, -1])\n",
    "\n",
    "    print(box.attributes)\n",
    "    primitives = [box, array1, antenna1, antenna2, antenna3, truncated_paraboloid]\n",
    "    renderer = visualize_primitives(primitives)\n",
    "    \n",
    "    #add a grid in the background\n",
    "    grid = GridHelper(size=10, divisions=10)\n",
    "    renderer.scene.add(grid)\n",
    "    display(renderer)"
   ]
  },
  {
   "cell_type": "code",
   "execution_count": 415,
   "id": "fb9c7b73",
   "metadata": {},
   "outputs": [
    {
     "data": {
      "text/plain": [
       "pythreejs.geometries.BoxGeometry_autogen.BoxGeometry"
      ]
     },
     "execution_count": 415,
     "metadata": {},
     "output_type": "execute_result"
    }
   ],
   "source": [
    "BoxGeometry"
   ]
  },
  {
   "cell_type": "code",
   "execution_count": 416,
   "id": "e3b4c203",
   "metadata": {},
   "outputs": [
    {
     "ename": "AttributeError",
     "evalue": "'GeometricPrimitive' object has no attribute 'attributes'",
     "output_type": "error",
     "traceback": [
      "\u001b[0;31m---------------------------------------------------------------------------\u001b[0m",
      "\u001b[0;31mAttributeError\u001b[0m                            Traceback (most recent call last)",
      "Cell \u001b[0;32mIn[416], line 1\u001b[0m\n\u001b[0;32m----> 1\u001b[0m \u001b[43msc_plot\u001b[49m\u001b[43m(\u001b[49m\u001b[43m)\u001b[49m\n",
      "Cell \u001b[0;32mIn[414], line 75\u001b[0m, in \u001b[0;36msc_plot\u001b[0;34m()\u001b[0m\n\u001b[1;32m     72\u001b[0m antenna3 \u001b[38;5;241m=\u001b[39m GeometricPrimitive(CylinderGeometry(radiusTop\u001b[38;5;241m=\u001b[39m\u001b[38;5;241m0.02\u001b[39m, radiusBottom\u001b[38;5;241m=\u001b[39m\u001b[38;5;241m0.05\u001b[39m, height\u001b[38;5;241m=\u001b[39m\u001b[38;5;241m0.4\u001b[39m), position\u001b[38;5;241m=\u001b[39m[\u001b[38;5;241m0.0\u001b[39m, \u001b[38;5;241m0.5\u001b[39m, \u001b[38;5;241m1\u001b[39m])\n\u001b[1;32m     73\u001b[0m truncated_paraboloid \u001b[38;5;241m=\u001b[39m GeometricPrimitive(CylinderGeometry(radiusTop\u001b[38;5;241m=\u001b[39m\u001b[38;5;241m0.4\u001b[39m, radiusBottom\u001b[38;5;241m=\u001b[39m\u001b[38;5;241m0.2\u001b[39m, height\u001b[38;5;241m=\u001b[39m\u001b[38;5;241m0.2\u001b[39m), position\u001b[38;5;241m=\u001b[39m[\u001b[38;5;241m0\u001b[39m, \u001b[38;5;241m0.5\u001b[39m, \u001b[38;5;241m-\u001b[39m\u001b[38;5;241m1\u001b[39m])\n\u001b[0;32m---> 75\u001b[0m \u001b[38;5;28mprint\u001b[39m(\u001b[43mbox\u001b[49m\u001b[38;5;241;43m.\u001b[39;49m\u001b[43mattributes\u001b[49m)\n\u001b[1;32m     76\u001b[0m primitives \u001b[38;5;241m=\u001b[39m [box, array1, antenna1, antenna2, antenna3, truncated_paraboloid]\n\u001b[1;32m     77\u001b[0m renderer \u001b[38;5;241m=\u001b[39m visualize_primitives(primitives)\n",
      "\u001b[0;31mAttributeError\u001b[0m: 'GeometricPrimitive' object has no attribute 'attributes'"
     ]
    }
   ],
   "source": [
    "sc_plot()"
   ]
  },
  {
   "cell_type": "code",
   "execution_count": null,
   "id": "0045bd05",
   "metadata": {},
   "outputs": [],
   "source": [
    "\n",
    "    # TODO: make a function that takes in a list of primitives and returns a list of coords/info\n",
    "    # for primitive in primitives:\n",
    "    #     # ...\n",
    "    #     if isinstance(primitive.geometry, BoxGeometry):\n",
    "    #         print(\"Box vertices:\")\n",
    "    #         for vertex in primitive.vertices:\n",
    "    #             print(vertex)\n",
    "    #     elif isinstance(primitive.geometry, SphereGeometry):\n",
    "    #         print(f\"Sphere radius: {primitive.radius}, center: {primitive.position}\")\n",
    "    #     elif isinstance(primitive.geometry, CylinderGeometry):\n",
    "    #         print(f\"Cylinder radius: {primitive.radius}, base coordinates: {primitive.base_coords}, top coordinates: {primitive.top_coords}\")\n",
    "    #     elif isinstance(primitive.geometry, CircleGeometry):\n",
    "    #         print(f\"Circle radius: {primitive.radius}, center: {primitive.position}\")\n",
    "    #     elif isinstance(primitive.geometry, RingGeometry):\n",
    "    #         print(f\"Ring outer radius: {primitive.outer_radius}, inner radius: {primitive.inner_radius}, thickness: {primitive.thickness}, center: {primitive.position}\")\n",
    "    #     elif isinstance(primitive.geometry, ConeGeometry):\n",
    "    #         if primitive.radius_top == 0:\n",
    "    #             print(f\"Paraboloid depth: {primitive.depth}, radius: {primitive.radius_bottom}, apex coordinates: {primitive.tip_coords}, base center coordinates: {primitive.base_center_coords}\")\n",
    "    #         else:\n",
    "    #             print(f\"Truncated Cone depth: {primitive.depth}, radius at the base: {primitive.radius_bottom}, tip radius: {primitive.radius_top}, base center coordinates: {primitive.base_center_coords}, tip coordinates: {primitive.tip_coords}\")\n"
   ]
  },
  {
   "cell_type": "code",
   "execution_count": null,
   "id": "747504fa",
   "metadata": {},
   "outputs": [],
   "source": [
    "# create primitives, position them, apply rotation to mesh, apply rotation to vertices determining shape"
   ]
  }
 ],
 "metadata": {
  "kernelspec": {
   "display_name": "Python 3 (ipykernel)",
   "language": "python",
   "name": "python3"
  },
  "language_info": {
   "codemirror_mode": {
    "name": "ipython",
    "version": 3
   },
   "file_extension": ".py",
   "mimetype": "text/x-python",
   "name": "python",
   "nbconvert_exporter": "python",
   "pygments_lexer": "ipython3",
   "version": "3.9.16"
  }
 },
 "nbformat": 4,
 "nbformat_minor": 5
}
