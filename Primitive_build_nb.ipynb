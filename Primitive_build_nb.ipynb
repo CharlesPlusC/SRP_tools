{
 "cells": [
  {
   "cell_type": "code",
   "execution_count": 2,
   "id": "17dd4943",
   "metadata": {},
   "outputs": [
    {
     "name": "stdout",
     "output_type": "stream",
     "text": [
      "Enabling notebook extension jupyter-threejs/extension...\n",
      "      - Validating: \u001b[32mOK\u001b[0m\n",
      "Enabling notebook extension jupyter-js-widgets/extension...\n",
      "      - Validating: \u001b[32mOK\u001b[0m\n"
     ]
    }
   ],
   "source": [
    "!jupyter nbextension enable --py --sys-prefix pythreejs\n",
    "!jupyter nbextension enable --py --sys-prefix widgetsnbextension"
   ]
  },
  {
   "cell_type": "code",
   "execution_count": 5,
   "id": "de74b53c",
   "metadata": {},
   "outputs": [],
   "source": [
    "import numpy as np\n",
    "from pythreejs import Renderer, Scene, PerspectiveCamera, Mesh, BoxGeometry, SphereGeometry, CylinderGeometry, ConeGeometry, PlaneGeometry, MeshStandardMaterial, DirectionalLight, OrbitControls, Euler, BufferGeometry\n",
    "from IPython.display import display\n",
    "\n",
    "class GeometricPrimitive:\n",
    "    def __init__(self, geometry, position, rotation):\n",
    "        self.geometry = geometry\n",
    "        self.position = position\n",
    "        self.rotation = rotation\n",
    "\n",
    "def create_mesh(primitive, material):\n",
    "    geometry = primitive.geometry\n",
    "    mesh = Mesh(geometry=geometry, material=material)\n",
    "    mesh.position = primitive.position\n",
    "    return mesh\n",
    "\n",
    "\n",
    "def visualize_primitives(primitives):\n",
    "    camera = PerspectiveCamera(position=[3, 3, 3], aspect=1.0)\n",
    "    controls = OrbitControls(controlling=camera)\n",
    "    light = DirectionalLight(position=[10, 10, 10])\n",
    "\n",
    "    scene = Scene()\n",
    "    scene.add(camera)\n",
    "    scene.add(light)\n",
    "\n",
    "    material = MeshStandardMaterial(color='red')\n",
    "\n",
    "    for primitive in primitives:\n",
    "        mesh = create_mesh(primitive, material)\n",
    "        scene.add(mesh)\n",
    "\n",
    "    renderer = Renderer(scene, camera, [controls], width=800, height=600)\n",
    "\n",
    "    return renderer\n",
    "\n",
    "def main():\n",
    "    box = GeometricPrimitive(BoxGeometry(width=1, height=1, depth=1), position=[-1, 0, 0], rotation=[0, 0, 0, 0])\n",
    "    sphere = GeometricPrimitive(SphereGeometry(radius=0.5), position=[1, 0, 0], rotation=[0, 0, 0])\n",
    "    cylinder = GeometricPrimitive(CylinderGeometry(radiusTop=0.3, radiusBottom=0.5, height=1), position=[0, 1, 0], rotation=[0, 0, 0])\n",
    "    cone = GeometricPrimitive(ConeGeometry(radius=0.5, height=1), position=[0, -1, 0], rotation=[0, 0, 0])\n",
    "    plane = GeometricPrimitive(PlaneGeometry(width=5, height=5), position=[0, -1.5, 0], rotation=[-np.pi / 2, 0, 0])\n",
    "\n",
    "    primitives = [box, sphere, cylinder, cone, plane]\n",
    "\n",
    "    renderer = visualize_primitives(primitives)\n",
    "    display(renderer)"
   ]
  },
  {
   "cell_type": "code",
   "execution_count": 8,
   "id": "e7ada3a6",
   "metadata": {},
   "outputs": [
    {
     "ename": "AttributeError",
     "evalue": "'GeometricPrimitive' object has no attribute 'List'",
     "output_type": "error",
     "traceback": [
      "\u001b[0;31m---------------------------------------------------------------------------\u001b[0m",
      "\u001b[0;31mAttributeError\u001b[0m                            Traceback (most recent call last)",
      "Cell \u001b[0;32mIn[8], line 2\u001b[0m\n\u001b[1;32m      1\u001b[0m testbox \u001b[38;5;241m=\u001b[39m GeometricPrimitive(BoxGeometry(width\u001b[38;5;241m=\u001b[39m\u001b[38;5;241m1\u001b[39m, height\u001b[38;5;241m=\u001b[39m\u001b[38;5;241m1\u001b[39m, depth\u001b[38;5;241m=\u001b[39m\u001b[38;5;241m1\u001b[39m), position\u001b[38;5;241m=\u001b[39m[\u001b[38;5;241m-\u001b[39m\u001b[38;5;241m1\u001b[39m, \u001b[38;5;241m0\u001b[39m, \u001b[38;5;241m0\u001b[39m], rotation\u001b[38;5;241m=\u001b[39m[\u001b[38;5;241m0\u001b[39m, \u001b[38;5;241m0\u001b[39m, \u001b[38;5;241m0\u001b[39m])\n\u001b[0;32m----> 2\u001b[0m \u001b[43mtestbox\u001b[49m\u001b[38;5;241;43m.\u001b[39;49m\u001b[43mList\u001b[49m\n",
      "\u001b[0;31mAttributeError\u001b[0m: 'GeometricPrimitive' object has no attribute 'List'"
     ]
    }
   ],
   "source": [
    "testbox = GeometricPrimitive(BoxGeometry(width=1, height=1, depth=1), position=[-1, 0, 0], rotation=[0, 0, 0])\n",
    "testbox.List"
   ]
  },
  {
   "cell_type": "code",
   "execution_count": 6,
   "id": "3b6a5267",
   "metadata": {},
   "outputs": [
    {
     "data": {
      "application/vnd.jupyter.widget-view+json": {
       "model_id": "503f96fe00bb4b9398458d2a2ba7e76e",
       "version_major": 2,
       "version_minor": 0
      },
      "text/plain": [
       "Renderer(camera=PerspectiveCamera(position=(3.0, 3.0, 3.0), projectionMatrix=(1.0, 0.0, 0.0, 0.0, 0.0, 1.0, 0.…"
      ]
     },
     "metadata": {},
     "output_type": "display_data"
    }
   ],
   "source": [
    "main()"
   ]
  },
  {
   "cell_type": "code",
   "execution_count": 19,
   "id": "59ee5dd5",
   "metadata": {},
   "outputs": [],
   "source": [
    "import numpy as np\n",
    "from pythreejs import Renderer, Scene, PerspectiveCamera, Mesh, BoxGeometry, SphereGeometry, CylinderGeometry, ConeGeometry, PlaneGeometry, MeshStandardMaterial, DirectionalLight, OrbitControls, Euler, BufferGeometry, CircleGeometry, RingGeometry\n",
    "from IPython.display import display\n",
    "\n",
    "class GeometricPrimitive:\n",
    "    def __init__(self, geometry, position, rotation):\n",
    "        self.geometry = geometry\n",
    "        self.position = position\n",
    "        self.rotation = rotation\n",
    "\n",
    "        self.calculate_properties()\n",
    "\n",
    "    def calculate_properties(self):\n",
    "        if isinstance(self.geometry, BoxGeometry):\n",
    "            self.vertices = []\n",
    "            for i in range(-1, 2, 2):\n",
    "                for j in range(-1, 2, 2):\n",
    "                    for k in range(-1, 2, 2):\n",
    "                        self.vertices.append([i * self.geometry.width / 2, j * self.geometry.height / 2, k * self.geometry.depth / 2])\n",
    "        elif isinstance(self.geometry, SphereGeometry):\n",
    "            self.radius = self.geometry.radius\n",
    "        elif isinstance(self.geometry, CylinderGeometry):\n",
    "            self.radius = self.geometry.radiusBottom\n",
    "            self.base_coords = [0, -self.geometry.height / 2, 0]\n",
    "            self.top_coords = [0, self.geometry.height / 2, 0]\n",
    "        elif isinstance(self.geometry, CircleGeometry):\n",
    "            self.radius = self.geometry.radius\n",
    "        elif isinstance(self.geometry, RingGeometry):\n",
    "            self.outer_radius = self.geometry.outerRadius\n",
    "            self.inner_radius = self.geometry.innerRadius\n",
    "            self.thickness = self.outer_radius - self.inner_radius\n",
    "        elif isinstance(self.geometry, ConeGeometry):\n",
    "            self.depth = self.geometry.height\n",
    "            self.radius_bottom = self.geometry.radius\n",
    "            self.radius_top = 0 if not hasattr(self.geometry, 'radiusTop') else self.geometry.radiusTop\n",
    "            self.base_center_coords = [0, -self.geometry.height / 2, 0]\n",
    "            self.tip_coords = [0, self.geometry.height / 2, 0]\n",
    "\n",
    "def create_mesh(primitive, material):\n",
    "    geometry = primitive.geometry\n",
    "    mesh = Mesh(geometry=geometry, material=material)\n",
    "    mesh.position = primitive.position\n",
    "    return mesh\n",
    "\n",
    "def visualize_primitives(primitives):\n",
    "    camera = PerspectiveCamera(position=[3, 3, 3], aspect=1.0)\n",
    "    controls = OrbitControls(controlling=camera)\n",
    "    light = DirectionalLight(position=[10, 10, 10])\n",
    "\n",
    "    scene = Scene()\n",
    "    scene.add(camera)\n",
    "    scene.add(light)\n",
    "    \n",
    "    # pick a random colour\n",
    "\n",
    "    material = MeshStandardMaterial(color='red')\n",
    "\n",
    "    for primitive in primitives:\n",
    "        mesh = create_mesh(primitive, material)\n",
    "        scene.add(mesh)\n",
    "\n",
    "    renderer = Renderer(scene, camera, [controls], width=800, height=600)\n",
    "\n",
    "    return renderer\n",
    "\n",
    "def main():\n",
    "    box = GeometricPrimitive(BoxGeometry(width=1, height=1, depth=1), position=[-1, 0, 0], rotation=[0, 0, 0, 0])\n",
    "    sphere = GeometricPrimitive(SphereGeometry(radius=0.5), position=[1, 0, 0], rotation=[0, 0, 0])\n",
    "    cylinder = GeometricPrimitive(CylinderGeometry(radiusTop=0.3, radiusBottom=0.5, height=1), position=[0, 1, 0], rotation=[0, 0, 0])\n",
    "    cone = GeometricPrimitive(ConeGeometry(radius=0.5, height=1), position=[0, -1, 0], rotation=[0, 0, 0])\n",
    "    plane = GeometricPrimitive(PlaneGeometry(width=5, height=5), position=[0, -1.5,0], rotation=[-np.pi / 2, 0, 0])\n",
    "    circle = GeometricPrimitive(CircleGeometry(radius=0.5), position=[-1, 1, 0], rotation=[-np.pi / 2, 0, 0])\n",
    "    ring = GeometricPrimitive(RingGeometry(innerRadius=0.3, outerRadius=0.5), position=[1, 1, 0], rotation=[-np.pi / 2, 0, 0])\n",
    "    truncated_cone = GeometricPrimitive(ConeGeometry(radiusBottom=0.5, radiusTop=0.3, height=1), position=[1, -1, 0], rotation=[0, 0, 0])\n",
    "    truncated_paraboloid = GeometricPrimitive(ConeGeometry(radius=0.5, height=1), position=[-1, -1, 0], rotation=[0, 0, 0])\n",
    "\n",
    "    primitives = [box, sphere, cylinder, cone, plane, circle, ring, truncated_paraboloid, truncated_cone]\n",
    "\n",
    "    for primitive in primitives:\n",
    "        # ...\n",
    "        if isinstance(primitive.geometry, BoxGeometry):\n",
    "            print(\"Box vertices:\")\n",
    "            for vertex in primitive.vertices:\n",
    "                print(vertex)\n",
    "        elif isinstance(primitive.geometry, SphereGeometry):\n",
    "            print(f\"Sphere radius: {primitive.radius}, center: {primitive.position}\")\n",
    "        elif isinstance(primitive.geometry, CylinderGeometry):\n",
    "            print(f\"Cylinder radius: {primitive.radius}, base coordinates: {primitive.base_coords}, top coordinates: {primitive.top_coords}\")\n",
    "        elif isinstance(primitive.geometry, CircleGeometry):\n",
    "            print(f\"Circle radius: {primitive.radius}, center: {primitive.position}\")\n",
    "        elif isinstance(primitive.geometry, RingGeometry):\n",
    "            print(f\"Ring outer radius: {primitive.outer_radius}, inner radius: {primitive.inner_radius}, thickness: {primitive.thickness}, center: {primitive.position}\")\n",
    "        elif isinstance(primitive.geometry, ConeGeometry):\n",
    "            if primitive.radius_top == 0:\n",
    "                print(f\"Paraboloid depth: {primitive.depth}, radius: {primitive.radius_bottom}, apex coordinates: {primitive.tip_coords}, base center coordinates: {primitive.base_center_coords}\")\n",
    "            else:\n",
    "                print(f\"Truncated Cone depth: {primitive.depth}, radius at the base: {primitive.radius_bottom}, tip radius: {primitive.radius_top}, base center coordinates: {primitive.base_center_coords}, tip coordinates: {primitive.tip_coords}\")\n",
    "\n",
    "    renderer = visualize_primitives(primitives)\n",
    "    display(renderer)\n",
    "\n"
   ]
  },
  {
   "cell_type": "code",
   "execution_count": 20,
   "id": "8f52b669",
   "metadata": {},
   "outputs": [
    {
     "name": "stdout",
     "output_type": "stream",
     "text": [
      "Box vertices:\n",
      "[-0.5, -0.5, -0.5]\n",
      "[-0.5, -0.5, 0.5]\n",
      "[-0.5, 0.5, -0.5]\n",
      "[-0.5, 0.5, 0.5]\n",
      "[0.5, -0.5, -0.5]\n",
      "[0.5, -0.5, 0.5]\n",
      "[0.5, 0.5, -0.5]\n",
      "[0.5, 0.5, 0.5]\n",
      "Sphere radius: 0.5, center: [1, 0, 0]\n",
      "Cylinder radius: 0.5, base coordinates: [0, -0.5, 0], top coordinates: [0, 0.5, 0]\n",
      "Paraboloid depth: 1.0, radius: 0.5, apex coordinates: [0, 0.5, 0], base center coordinates: [0, -0.5, 0]\n",
      "Circle radius: 0.5, center: [-1, 1, 0]\n",
      "Ring outer radius: 0.5, inner radius: 0.3, thickness: 0.2, center: [1, 1, 0]\n",
      "Paraboloid depth: 1.0, radius: 0.5, apex coordinates: [0, 0.5, 0], base center coordinates: [0, -0.5, 0]\n",
      "Paraboloid depth: 1.0, radius: 20.0, apex coordinates: [0, 0.5, 0], base center coordinates: [0, -0.5, 0]\n"
     ]
    },
    {
     "data": {
      "application/vnd.jupyter.widget-view+json": {
       "model_id": "2308bea0fac8457084ae7df0f67aeada",
       "version_major": 2,
       "version_minor": 0
      },
      "text/plain": [
       "Renderer(camera=PerspectiveCamera(position=(3.0, 3.0, 3.0), projectionMatrix=(1.0, 0.0, 0.0, 0.0, 0.0, 1.0, 0.…"
      ]
     },
     "metadata": {},
     "output_type": "display_data"
    }
   ],
   "source": [
    "main()"
   ]
  },
  {
   "cell_type": "code",
   "execution_count": 39,
   "id": "ce48744f",
   "metadata": {},
   "outputs": [],
   "source": [
    "testbox = BoxGeometry(width=1, height=1, depth=1)\n"
   ]
  },
  {
   "cell_type": "code",
   "execution_count": 40,
   "id": "df518b88",
   "metadata": {},
   "outputs": [
    {
     "name": "stdout",
     "output_type": "stream",
     "text": [
      "1.0\n"
     ]
    }
   ],
   "source": [
    "print(testbox.width)"
   ]
  },
  {
   "cell_type": "code",
   "execution_count": null,
   "id": "c691b387",
   "metadata": {},
   "outputs": [],
   "source": []
  }
 ],
 "metadata": {
  "kernelspec": {
   "display_name": "Python 3 (ipykernel)",
   "language": "python",
   "name": "python3"
  },
  "language_info": {
   "codemirror_mode": {
    "name": "ipython",
    "version": 3
   },
   "file_extension": ".py",
   "mimetype": "text/x-python",
   "name": "python",
   "nbconvert_exporter": "python",
   "pygments_lexer": "ipython3",
   "version": "3.9.16"
  }
 },
 "nbformat": 4,
 "nbformat_minor": 5
}
