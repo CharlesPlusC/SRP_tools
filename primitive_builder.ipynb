{
 "cells": [
  {
   "cell_type": "code",
   "execution_count": 2,
   "metadata": {},
   "outputs": [
    {
     "name": "stdout",
     "output_type": "stream",
     "text": [
      "Enabling notebook extension jupyter-threejs/extension...\n",
      "      - Validating: \u001b[32mOK\u001b[0m\n",
      "Enabling notebook extension jupyter-js-widgets/extension...\n",
      "      - Validating: \u001b[32mOK\u001b[0m\n"
     ]
    }
   ],
   "source": [
    "!jupyter nbextension enable --py --sys-prefix pythreejs\n",
    "!jupyter nbextension enable --py --sys-prefix widgetsnbextension"
   ]
  },
  {
   "cell_type": "code",
   "execution_count": 3,
   "metadata": {},
   "outputs": [],
   "source": [
    "import numpy as np\n",
    "from pythreejs import Renderer, Scene, PerspectiveCamera, Mesh, BoxGeometry, SphereGeometry, CylinderGeometry, ConeGeometry, PlaneGeometry, MeshStandardMaterial, DirectionalLight, OrbitControls\n",
    "from IPython.display import display\n",
    "\n",
    "class GeometricPrimitive:\n",
    "    def __init__(self, geometry, position, rotation):\n",
    "        self.geometry = geometry\n",
    "        self.position = position\n",
    "        self.rotation = rotation\n",
    "\n",
    "\n",
    "def create_mesh(primitive, material):\n",
    "    mesh = Mesh(geometry=primitive.geometry, material=material)\n",
    "    mesh.position = primitive.position\n",
    "    mesh.rotation = primitive.rotation\n",
    "    return mesh\n",
    "\n",
    "def visualize_primitives(primitives):\n",
    "    camera = PerspectiveCamera(position=[3, 3, 3], aspect=1.0)\n",
    "    controls = OrbitControls(controlling=camera)\n",
    "    light = DirectionalLight(position=[10, 10, 10])\n",
    "\n",
    "    scene = Scene()\n",
    "    scene.add(camera)\n",
    "    scene.add(light)\n",
    "\n",
    "    material = MeshStandardMaterial(color='red')\n",
    "\n",
    "    for primitive in primitives:\n",
    "        mesh = create_mesh(primitive, material)\n",
    "        scene.add(mesh)\n",
    "\n",
    "    renderer = Renderer(scene, camera, [controls], width=800, height=600)\n",
    "\n",
    "    return renderer\n",
    "\n",
    "def main():\n",
    "    box = GeometricPrimitive(BoxGeometry(width=1, height=1, depth=1), position=[-1, 0, 0], rotation=[0, 0, 0, 0])\n",
    "    sphere = GeometricPrimitive(SphereGeometry(radius=0.5), position=[1, 0, 0], rotation=[0, 0, 0])\n",
    "    cylinder = GeometricPrimitive(CylinderGeometry(radiusTop=0.3, radiusBottom=0.5, height=1), position=[0, 1, 0], rotation=[0, 0, 0])\n",
    "    cone = GeometricPrimitive(ConeGeometry(radius=0.5, height=1), position=[0, -1, 0], rotation=[0, 0, 0])\n",
    "    plane = GeometricPrimitive(PlaneGeometry(width=5, height=5), position=[0, -1.5, 0], rotation=[-np.pi / 2, 0, 0])\n",
    "\n",
    "    primitives = [box, sphere, cylinder, cone, plane]\n",
    "\n",
    "    renderer = visualize_primitives(primitives)\n",
    "    display(renderer)"
   ]
  },
  {
   "cell_type": "code",
   "execution_count": 4,
   "metadata": {},
   "outputs": [],
   "source": [
    "main()"
   ]
  },
  {
   "cell_type": "code",
   "execution_count": null,
   "metadata": {},
   "outputs": [],
   "source": []
  }
 ],
 "metadata": {
  "kernelspec": {
   "display_name": "astro",
   "language": "python",
   "name": "python3"
  },
  "language_info": {
   "codemirror_mode": {
    "name": "ipython",
    "version": 3
   },
   "file_extension": ".py",
   "mimetype": "text/x-python",
   "name": "python",
   "nbconvert_exporter": "python",
   "pygments_lexer": "ipython3",
   "version": "3.8.15"
  },
  "orig_nbformat": 4
 },
 "nbformat": 4,
 "nbformat_minor": 2
}
